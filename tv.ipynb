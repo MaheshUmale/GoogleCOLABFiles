{
 "cells": [
  {
   "cell_type": "markdown",
   "metadata": {},
   "source": [
    "https://youtu.be/qDrXmb2ZRjo"
   ]
  },
  {
   "cell_type": "code",
   "execution_count": null,
   "metadata": {},
   "outputs": [],
   "source": [
    "# pip install -U pywebio"
   ]
  },
  {
   "cell_type": "code",
   "execution_count": 1,
   "metadata": {},
   "outputs": [],
   "source": [
    "from tvDatafeed import TvDatafeed,Interval\n"
   ]
  },
  {
   "cell_type": "code",
   "execution_count": 2,
   "metadata": {},
   "outputs": [],
   "source": [
    "# get credentials for tradingview\n",
    "username = 'mumale@gmail.com'\n",
    "password = 'Kiaan@123'"
   ]
  },
  {
   "cell_type": "code",
   "execution_count": 3,
   "metadata": {},
   "outputs": [],
   "source": [
    "# initialize tradingview\n",
    "\n",
    "tv=TvDatafeed(username=username,password=password)"
   ]
  },
  {
   "cell_type": "code",
   "execution_count": 60,
   "metadata": {},
   "outputs": [
    {
     "data": {
      "text/html": [
       "<div>\n",
       "<style scoped>\n",
       "    .dataframe tbody tr th:only-of-type {\n",
       "        vertical-align: middle;\n",
       "    }\n",
       "\n",
       "    .dataframe tbody tr th {\n",
       "        vertical-align: top;\n",
       "    }\n",
       "\n",
       "    .dataframe thead th {\n",
       "        text-align: right;\n",
       "    }\n",
       "</style>\n",
       "<table border=\"1\" class=\"dataframe\">\n",
       "  <thead>\n",
       "    <tr style=\"text-align: right;\">\n",
       "      <th></th>\n",
       "      <th>symbol</th>\n",
       "      <th>open</th>\n",
       "      <th>high</th>\n",
       "      <th>low</th>\n",
       "      <th>close</th>\n",
       "      <th>volume</th>\n",
       "    </tr>\n",
       "    <tr>\n",
       "      <th>datetime</th>\n",
       "      <th></th>\n",
       "      <th></th>\n",
       "      <th></th>\n",
       "      <th></th>\n",
       "      <th></th>\n",
       "      <th></th>\n",
       "    </tr>\n",
       "  </thead>\n",
       "  <tbody>\n",
       "    <tr>\n",
       "      <th>2021-12-17 20:00:00</th>\n",
       "      <td>NASDAQ:AAPL</td>\n",
       "      <td>169.930</td>\n",
       "      <td>173.4700</td>\n",
       "      <td>169.69</td>\n",
       "      <td>171.14</td>\n",
       "      <td>195923441.0</td>\n",
       "    </tr>\n",
       "    <tr>\n",
       "      <th>2021-12-20 20:00:00</th>\n",
       "      <td>NASDAQ:AAPL</td>\n",
       "      <td>168.280</td>\n",
       "      <td>170.5800</td>\n",
       "      <td>167.46</td>\n",
       "      <td>169.75</td>\n",
       "      <td>107499114.0</td>\n",
       "    </tr>\n",
       "    <tr>\n",
       "      <th>2021-12-21 20:00:00</th>\n",
       "      <td>NASDAQ:AAPL</td>\n",
       "      <td>171.555</td>\n",
       "      <td>173.2000</td>\n",
       "      <td>169.12</td>\n",
       "      <td>172.99</td>\n",
       "      <td>91185905.0</td>\n",
       "    </tr>\n",
       "    <tr>\n",
       "      <th>2021-12-22 20:00:00</th>\n",
       "      <td>NASDAQ:AAPL</td>\n",
       "      <td>173.040</td>\n",
       "      <td>175.8600</td>\n",
       "      <td>172.15</td>\n",
       "      <td>175.64</td>\n",
       "      <td>92135303.0</td>\n",
       "    </tr>\n",
       "    <tr>\n",
       "      <th>2021-12-23 20:00:00</th>\n",
       "      <td>NASDAQ:AAPL</td>\n",
       "      <td>175.850</td>\n",
       "      <td>176.8499</td>\n",
       "      <td>175.27</td>\n",
       "      <td>176.28</td>\n",
       "      <td>68356567.0</td>\n",
       "    </tr>\n",
       "    <tr>\n",
       "      <th>2021-12-27 20:00:00</th>\n",
       "      <td>NASDAQ:AAPL</td>\n",
       "      <td>177.085</td>\n",
       "      <td>180.4200</td>\n",
       "      <td>177.07</td>\n",
       "      <td>180.33</td>\n",
       "      <td>74919582.0</td>\n",
       "    </tr>\n",
       "    <tr>\n",
       "      <th>2021-12-28 20:00:00</th>\n",
       "      <td>NASDAQ:AAPL</td>\n",
       "      <td>180.160</td>\n",
       "      <td>181.3300</td>\n",
       "      <td>178.53</td>\n",
       "      <td>179.29</td>\n",
       "      <td>79144339.0</td>\n",
       "    </tr>\n",
       "    <tr>\n",
       "      <th>2021-12-29 20:00:00</th>\n",
       "      <td>NASDAQ:AAPL</td>\n",
       "      <td>179.330</td>\n",
       "      <td>180.6300</td>\n",
       "      <td>178.14</td>\n",
       "      <td>179.38</td>\n",
       "      <td>62348931.0</td>\n",
       "    </tr>\n",
       "    <tr>\n",
       "      <th>2021-12-30 20:00:00</th>\n",
       "      <td>NASDAQ:AAPL</td>\n",
       "      <td>179.470</td>\n",
       "      <td>180.5700</td>\n",
       "      <td>178.09</td>\n",
       "      <td>178.20</td>\n",
       "      <td>59773014.0</td>\n",
       "    </tr>\n",
       "    <tr>\n",
       "      <th>2021-12-31 20:00:00</th>\n",
       "      <td>NASDAQ:AAPL</td>\n",
       "      <td>178.085</td>\n",
       "      <td>179.2300</td>\n",
       "      <td>177.26</td>\n",
       "      <td>177.54</td>\n",
       "      <td>26332001.0</td>\n",
       "    </tr>\n",
       "  </tbody>\n",
       "</table>\n",
       "</div>"
      ],
      "text/plain": [
       "                          symbol     open      high     low   close  \\\n",
       "datetime                                                              \n",
       "2021-12-17 20:00:00  NASDAQ:AAPL  169.930  173.4700  169.69  171.14   \n",
       "2021-12-20 20:00:00  NASDAQ:AAPL  168.280  170.5800  167.46  169.75   \n",
       "2021-12-21 20:00:00  NASDAQ:AAPL  171.555  173.2000  169.12  172.99   \n",
       "2021-12-22 20:00:00  NASDAQ:AAPL  173.040  175.8600  172.15  175.64   \n",
       "2021-12-23 20:00:00  NASDAQ:AAPL  175.850  176.8499  175.27  176.28   \n",
       "2021-12-27 20:00:00  NASDAQ:AAPL  177.085  180.4200  177.07  180.33   \n",
       "2021-12-28 20:00:00  NASDAQ:AAPL  180.160  181.3300  178.53  179.29   \n",
       "2021-12-29 20:00:00  NASDAQ:AAPL  179.330  180.6300  178.14  179.38   \n",
       "2021-12-30 20:00:00  NASDAQ:AAPL  179.470  180.5700  178.09  178.20   \n",
       "2021-12-31 20:00:00  NASDAQ:AAPL  178.085  179.2300  177.26  177.54   \n",
       "\n",
       "                          volume  \n",
       "datetime                          \n",
       "2021-12-17 20:00:00  195923441.0  \n",
       "2021-12-20 20:00:00  107499114.0  \n",
       "2021-12-21 20:00:00   91185905.0  \n",
       "2021-12-22 20:00:00   92135303.0  \n",
       "2021-12-23 20:00:00   68356567.0  \n",
       "2021-12-27 20:00:00   74919582.0  \n",
       "2021-12-28 20:00:00   79144339.0  \n",
       "2021-12-29 20:00:00   62348931.0  \n",
       "2021-12-30 20:00:00   59773014.0  \n",
       "2021-12-31 20:00:00   26332001.0  "
      ]
     },
     "execution_count": 60,
     "metadata": {},
     "output_type": "execute_result"
    }
   ],
   "source": [
    "tv.get_hist('AAPL','NASDAQ',)"
   ]
  },
  {
   "cell_type": "code",
   "execution_count": 5,
   "metadata": {},
   "outputs": [],
   "source": [
    "nifty_data=tv.get_hist('BANKNIFTY','NSE',interval=Interval.in_daily,n_bars=5000)"
   ]
  },
  {
   "cell_type": "code",
   "execution_count": 8,
   "metadata": {},
   "outputs": [],
   "source": [
    "nifty_data.to_csv('out.csv', index=True,header=True)"
   ]
  },
  {
   "cell_type": "code",
   "execution_count": 7,
   "metadata": {},
   "outputs": [
    {
     "data": {
      "text/html": [
       "<div>\n",
       "<style scoped>\n",
       "    .dataframe tbody tr th:only-of-type {\n",
       "        vertical-align: middle;\n",
       "    }\n",
       "\n",
       "    .dataframe tbody tr th {\n",
       "        vertical-align: top;\n",
       "    }\n",
       "\n",
       "    .dataframe thead th {\n",
       "        text-align: right;\n",
       "    }\n",
       "</style>\n",
       "<table border=\"1\" class=\"dataframe\">\n",
       "  <thead>\n",
       "    <tr style=\"text-align: right;\">\n",
       "      <th></th>\n",
       "      <th>symbol</th>\n",
       "      <th>open</th>\n",
       "      <th>high</th>\n",
       "      <th>low</th>\n",
       "      <th>close</th>\n",
       "      <th>volume</th>\n",
       "    </tr>\n",
       "    <tr>\n",
       "      <th>datetime</th>\n",
       "      <th></th>\n",
       "      <th></th>\n",
       "      <th></th>\n",
       "      <th></th>\n",
       "      <th></th>\n",
       "      <th></th>\n",
       "    </tr>\n",
       "  </thead>\n",
       "  <tbody>\n",
       "    <tr>\n",
       "      <th>2021-12-27 09:15:00</th>\n",
       "      <td>NSE:BANKNIFTY</td>\n",
       "      <td>34573.648</td>\n",
       "      <td>35143.699</td>\n",
       "      <td>34233.000</td>\n",
       "      <td>35057.898</td>\n",
       "      <td>1.000000e+100</td>\n",
       "    </tr>\n",
       "    <tr>\n",
       "      <th>2021-12-28 09:15:00</th>\n",
       "      <td>NSE:BANKNIFTY</td>\n",
       "      <td>35308.301</td>\n",
       "      <td>35352.398</td>\n",
       "      <td>35037.898</td>\n",
       "      <td>35183.801</td>\n",
       "      <td>1.000000e+100</td>\n",
       "    </tr>\n",
       "    <tr>\n",
       "      <th>2021-12-29 09:15:00</th>\n",
       "      <td>NSE:BANKNIFTY</td>\n",
       "      <td>35168.852</td>\n",
       "      <td>35378.301</td>\n",
       "      <td>34890.801</td>\n",
       "      <td>35045.398</td>\n",
       "      <td>1.000000e+100</td>\n",
       "    </tr>\n",
       "    <tr>\n",
       "      <th>2021-12-30 09:15:00</th>\n",
       "      <td>NSE:BANKNIFTY</td>\n",
       "      <td>34977.648</td>\n",
       "      <td>35179.051</td>\n",
       "      <td>34751.250</td>\n",
       "      <td>35063.602</td>\n",
       "      <td>1.000000e+100</td>\n",
       "    </tr>\n",
       "    <tr>\n",
       "      <th>2021-12-31 09:15:00</th>\n",
       "      <td>NSE:BANKNIFTY</td>\n",
       "      <td>35114.398</td>\n",
       "      <td>35596.949</td>\n",
       "      <td>35113.750</td>\n",
       "      <td>35481.699</td>\n",
       "      <td>1.000000e+100</td>\n",
       "    </tr>\n",
       "  </tbody>\n",
       "</table>\n",
       "</div>"
      ],
      "text/plain": [
       "                            symbol       open       high        low  \\\n",
       "datetime                                                              \n",
       "2021-12-27 09:15:00  NSE:BANKNIFTY  34573.648  35143.699  34233.000   \n",
       "2021-12-28 09:15:00  NSE:BANKNIFTY  35308.301  35352.398  35037.898   \n",
       "2021-12-29 09:15:00  NSE:BANKNIFTY  35168.852  35378.301  34890.801   \n",
       "2021-12-30 09:15:00  NSE:BANKNIFTY  34977.648  35179.051  34751.250   \n",
       "2021-12-31 09:15:00  NSE:BANKNIFTY  35114.398  35596.949  35113.750   \n",
       "\n",
       "                         close         volume  \n",
       "datetime                                       \n",
       "2021-12-27 09:15:00  35057.898  1.000000e+100  \n",
       "2021-12-28 09:15:00  35183.801  1.000000e+100  \n",
       "2021-12-29 09:15:00  35045.398  1.000000e+100  \n",
       "2021-12-30 09:15:00  35063.602  1.000000e+100  \n",
       "2021-12-31 09:15:00  35481.699  1.000000e+100  "
      ]
     },
     "execution_count": 7,
     "metadata": {},
     "output_type": "execute_result"
    }
   ],
   "source": [
    "nifty_data.tail()"
   ]
  },
  {
   "cell_type": "code",
   "execution_count": null,
   "metadata": {},
   "outputs": [],
   "source": [
    "nifty_data.close.plot(figsize=(10,10),use_index=False)"
   ]
  },
  {
   "cell_type": "code",
   "execution_count": null,
   "metadata": {},
   "outputs": [],
   "source": [
    "# futures data\n",
    "crudeoil_data=tv.get_hist('CRUDEOIL','MCX',Interval.in_2_hour,n_bars=500,fut_contract=1)"
   ]
  },
  {
   "cell_type": "code",
   "execution_count": null,
   "metadata": {},
   "outputs": [],
   "source": [
    "crudeoil_data.close.plot()"
   ]
  },
  {
   "cell_type": "code",
   "execution_count": null,
   "metadata": {},
   "outputs": [],
   "source": [
    "# cryptocurrencies\n",
    "btc_data=tv.get_hist('BTC','CME',Interval.in_1_minute,n_bars=5000,fut_contract=1)\n",
    "btc_data.tail()"
   ]
  },
  {
   "cell_type": "code",
   "execution_count": null,
   "metadata": {},
   "outputs": [],
   "source": [
    "hsbc_data=tv.get_hist('HSBA','LSE',Interval.in_1_minute,n_bars=500)\n",
    "hsbc_data.tail(10)"
   ]
  },
  {
   "cell_type": "code",
   "execution_count": null,
   "metadata": {},
   "outputs": [],
   "source": [
    "btc_usd_data=tv.get_hist('BTCUSD','BINANCE',Interval.in_1_minute ,n_bars=500)"
   ]
  },
  {
   "cell_type": "code",
   "execution_count": null,
   "metadata": {},
   "outputs": [],
   "source": []
  },
  {
   "cell_type": "code",
   "execution_count": null,
   "metadata": {},
   "outputs": [],
   "source": [
    "btc_usd_data.close.plot()"
   ]
  },
  {
   "cell_type": "code",
   "execution_count": null,
   "metadata": {},
   "outputs": [],
   "source": [
    "etheur_data=tv.get_hist('ETHEUR','BINANCE',Interval.in_1_minute,5000)"
   ]
  },
  {
   "cell_type": "code",
   "execution_count": null,
   "metadata": {},
   "outputs": [],
   "source": [
    "etheur_data.close.plot()"
   ]
  },
  {
   "cell_type": "code",
   "execution_count": null,
   "metadata": {},
   "outputs": [],
   "source": [
    "# plotting candlesticks chart\n",
    "\n",
    "import mplfinance as mpf"
   ]
  },
  {
   "cell_type": "code",
   "execution_count": null,
   "metadata": {},
   "outputs": [],
   "source": [
    "mpf.plot(etheur_data.head(100),type='candle',style='yahoo',volume=True)"
   ]
  },
  {
   "cell_type": "code",
   "execution_count": null,
   "metadata": {},
   "outputs": [],
   "source": [
    "etheur_data.to_csv('etheur.csv')"
   ]
  },
  {
   "cell_type": "code",
   "execution_count": null,
   "metadata": {},
   "outputs": [],
   "source": []
  },
  {
   "cell_type": "code",
   "execution_count": null,
   "metadata": {},
   "outputs": [],
   "source": []
  }
 ],
 "metadata": {
  "kernelspec": {
   "display_name": "Python 3.8.5 64-bit ('yt_38': conda)",
   "metadata": {
    "interpreter": {
     "hash": "7ae3091cd69766f9b0c1454bdc5424587c5d7a7f07c706d00dab9934de08d25b"
    }
   },
   "name": "python3"
  },
  "language_info": {
   "codemirror_mode": {
    "name": "ipython",
    "version": 3
   },
   "file_extension": ".py",
   "mimetype": "text/x-python",
   "name": "python",
   "nbconvert_exporter": "python",
   "pygments_lexer": "ipython3",
   "version": "3.9.9"
  },
  "orig_nbformat": 2
 },
 "nbformat": 4,
 "nbformat_minor": 2
}
